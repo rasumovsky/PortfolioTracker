{
 "cells": [
  {
   "cell_type": "code",
   "execution_count": null,
   "metadata": {
    "collapsed": false
   },
   "outputs": [],
   "source": [
    "import matplotlib.pyplot as plt\n",
    "import numpy as np\n",
    "import scipy as scipy\n",
    "from ipywidgets import *\n",
    "\n",
    "# Plot the figures inline and not in a pop-up\n",
    "%matplotlib inline"
   ]
  },
  {
   "cell_type": "code",
   "execution_count": null,
   "metadata": {
    "collapsed": false
   },
   "outputs": [],
   "source": [
    "class simulated_parameter:\n",
    "    def __init__(self, parameter_name, parameter_mean, parameter_stddev):\n",
    "        self._parameter_name = parameter_name\n",
    "        self._parameter_mean = parameter_mean\n",
    "        self._parameter_stddev = parameter_stddev\n",
    "\n",
    "    def get_simulated_values(self, num_samples):\n",
    "        return np.random.normal(\n",
    "            loc=self._parameter_mean,\n",
    "            scale=self._parameter_stddev,\n",
    "            size=num_samples)\n",
    "\n",
    "    def get_param_name(self):\n",
    "        return self._parameter_name"
   ]
  },
  {
   "cell_type": "code",
   "execution_count": null,
   "metadata": {
    "collapsed": true
   },
   "outputs": [],
   "source": [
    "def get_confidence_interval(values):\n",
    "    num_simulations = len(values)\n",
    "    # Find the median, 1, and 2 std dev values.\n",
    "    probs = [0.045, 0.317, 0.5, 0.683, 0.955]\n",
    "    indices = [int(prob * float(num_simulations)) for prob in probs]\n",
    "    lower_2s = []\n",
    "    lower_1s = []\n",
    "    median = []\n",
    "    upper_1s = []\n",
    "    upper_2s = []\n",
    "    for year in range(len(values[0])):\n",
    "        yearly_values = [values[sim][year] for sim in range(num_simulations)]\n",
    "        yearly_values.sort()\n",
    "        lower_2s.append(yearly_values[indices[0]])\n",
    "        lower_1s.append(yearly_values[indices[1]])\n",
    "        median.append(yearly_values[indices[2]])\n",
    "        upper_1s.append(yearly_values[indices[3]])\n",
    "        upper_2s.append(yearly_values[indices[4]])\n",
    "    return lower_2s, lower_1s, median, upper_1s, upper_2s"
   ]
  },
  {
   "cell_type": "code",
   "execution_count": null,
   "metadata": {
    "collapsed": true
   },
   "outputs": [],
   "source": [
    "def simulate_portfolio(initial_value,\n",
    "                       initial_contribution,\n",
    "                       annual_earnings_increase,\n",
    "                       annual_rate_of_return,\n",
    "                       num_years,\n",
    "                       num_simulations):\n",
    "    values = []\n",
    "    incomes = []\n",
    "\n",
    "    # Loop over the number of years.\n",
    "    for _ in range(num_simulations):\n",
    "        curr_values = [initial_value]\n",
    "        curr_incomes = [initial_contribution]\n",
    "        for y in range(num_years):\n",
    "            increase = annual_earnings_increase.get_simulated_values(1)\n",
    "            ror = annual_rate_of_return.get_simulated_values(1)\n",
    "            new_income = curr_incomes[-1] * increase[0]\n",
    "            new_value = curr_values[-1] * ror[0]\n",
    "            curr_incomes.append(new_income)\n",
    "            curr_values.append(new_value + new_income)\n",
    "        values.append(curr_values)\n",
    "        incomes.append(curr_incomes)\n",
    "            \n",
    "    return values, incomes"
   ]
  },
  {
   "cell_type": "code",
   "execution_count": null,
   "metadata": {
    "collapsed": true
   },
   "outputs": [],
   "source": [
    "def get_crossing_dates(values, years, threshold):\n",
    "    results = []\n",
    "    for v in values:\n",
    "        for y in range(len(years)):\n",
    "            if v[y] > threshold:\n",
    "                results.append(years[y])\n",
    "                break\n",
    "    return results"
   ]
  },
  {
   "cell_type": "code",
   "execution_count": null,
   "metadata": {
    "collapsed": true
   },
   "outputs": [],
   "source": [
    "def plot_ci(x, ys, xlabel, ylabel, title):\n",
    "    lower_2s, lower_1s, median, upper_1s, upper_2s = get_confidence_interval(ys)\n",
    "    fig, ax = plt.subplots(figsize=(10,5))\n",
    "    years = [2019 + i for i in range(num_years + 1)]\n",
    "    ax.plot(x, median, label='median', color='r')\n",
    "    ax.fill_between(years, lower_2s, upper_2s, facecolor='r', alpha=0.15)\n",
    "    ax.fill_between(years, lower_1s, upper_1s, facecolor='r', alpha=0.35)\n",
    "    ax.set(xlabel=xlabel, ylabel=ylabel, title=title)\n",
    "    ax.grid()\n",
    "    plt.show()\n",
    "\n",
    "def plot_two_ci(x, ys1, ys2, xlabel, ylabel, title):\n",
    "    lower_2s_1, lower_1s_1, median_1, upper_1s_1, upper_2s_1 = get_confidence_interval(ys1)\n",
    "    lower_2s_2, lower_1s_2, median_2, upper_1s_2, upper_2s_2 = get_confidence_interval(ys2)\n",
    "    fig, ax = plt.subplots(figsize=(10,5))\n",
    "    years = [2019 + i for i in range(num_years + 1)]\n",
    "    ax.plot(x, median_1, label='median', color='g')\n",
    "    ax.fill_between(years, lower_2s_1, upper_2s_1, facecolor='g', alpha=0.15)\n",
    "    ax.fill_between(years, lower_1s_1, upper_1s_1, facecolor='g', alpha=0.35)\n",
    "    ax.plot(x, median_2, label='median no investment', color='b')\n",
    "    ax.fill_between(years, lower_2s_2, upper_2s_2, facecolor='b', alpha=0.15)\n",
    "    ax.fill_between(years, lower_1s_2, upper_1s_2, facecolor='b', alpha=0.35)\n",
    "    ax.set(xlabel=xlabel, ylabel=ylabel, title=title)\n",
    "    ax.grid()\n",
    "    plt.show()"
   ]
  },
  {
   "cell_type": "code",
   "execution_count": null,
   "metadata": {
    "collapsed": true
   },
   "outputs": [],
   "source": [
    "def graph_update(earnings_increase,\n",
    "                 earnings_increase_stddev,\n",
    "                 rate_of_return,\n",
    "                 rate_of_return_stddev,\n",
    "                 threshold):\n",
    "\n",
    "    annual_earnings_increase = simulated_parameter(\n",
    "        'annual_earnings_increase',\n",
    "        earnings_increase,\n",
    "        earnings_increase_stddev)\n",
    "    annual_rate_of_return = simulated_parameter(\n",
    "        'annual_rate_of_return',\n",
    "        rate_of_return,\n",
    "        rate_of_return_stddev)\n",
    "    annual_rate_of_return_ni = simulated_parameter(\n",
    "        'annual_rate_of_return',\n",
    "        1.0,\n",
    "        0.01)\n",
    "\n",
    "    values, incomes = simulate_portfolio(\n",
    "        initial_value,\n",
    "        initial_contribution,\n",
    "        annual_earnings_increase,\n",
    "        annual_rate_of_return,\n",
    "        num_years,\n",
    "        num_simulations)\n",
    "\n",
    "    values_ni, incomes_ni = simulate_portfolio(\n",
    "        initial_value,\n",
    "        initial_contribution,\n",
    "        annual_earnings_increase,\n",
    "        annual_rate_of_return_ni,\n",
    "        num_years,\n",
    "        num_simulations)\n",
    "\n",
    "    years = [2019 + i for i in range(num_years + 1)]\n",
    "    \n",
    "    # Plot of the expected annual income per year.\n",
    "    plot_ci(years, incomes, 'Year', 'Income [$M]', 'Income')\n",
    "    \n",
    "    # Plot of the expected portfolio value by year.\n",
    "    plot_two_ci(years, values, values_ni, 'Year', 'Value [$M]', 'Portfolio Value')\n",
    "    \n",
    "    # Plot the expected dates for reaching a certain portfolio value.\n",
    "    dates = get_crossing_dates(values, years, threshold)\n",
    "    dates.sort()\n",
    "\n",
    "    dates_ni = get_crossing_dates(values_ni, years, threshold)\n",
    "    dates_ni.sort()\n",
    "\n",
    "    #fig, ax = plt.subplots(1, 1)\n",
    "    fig, ax = plt.subplots(figsize=(10,5))\n",
    "    ax.hist(dates, bins=years, histtype='bar', facecolor='g', alpha=0.2, range=(years[0], years[-1]))\n",
    "    ax.hist(dates_ni, bins=years, histtype='bar', facecolor='b', alpha=0.4, range=(years[0], years[-1]))\n",
    "    ax.set(xlabel='Year', ylabel='Num Simulations', title='Year to reach $%2.1fM' % threshold)\n",
    "\n",
    "    "
   ]
  },
  {
   "cell_type": "code",
   "execution_count": null,
   "metadata": {
    "collapsed": false
   },
   "outputs": [],
   "source": [
    "initial_value = 0.26\n",
    "initial_contribution = 0.12\n",
    "num_years = 30\n",
    "num_simulations = 1000\n",
    "\n",
    "interact(graph_update,\n",
    "         earnings_increase=widgets.FloatSlider(value=1.02,\n",
    "                                       min=0.8,\n",
    "                                       max=1.2,\n",
    "                                       step=0.02),\n",
    "         earnings_increase_stddev=widgets.FloatSlider(value=0.02,\n",
    "                                       min=0.000001,\n",
    "                                       max=0.1,\n",
    "                                       step=0.01),\n",
    "         rate_of_return=widgets.FloatSlider(value=1.06,\n",
    "                                       min=0.8,\n",
    "                                       max=1.2,\n",
    "                                       step=0.01),\n",
    "         rate_of_return_stddev=widgets.FloatSlider(value=0.15,\n",
    "                                       min=0.000001,\n",
    "                                       max=0.2,\n",
    "                                       step=0.01),\n",
    "         threshold=widgets.FloatSlider(value=3,\n",
    "                                       min=initial_value + 0.1,\n",
    "                                       max=50*initial_value,\n",
    "                                       step=0.1))"
   ]
  },
  {
   "cell_type": "code",
   "execution_count": null,
   "metadata": {
    "collapsed": true
   },
   "outputs": [],
   "source": []
  }
 ],
 "metadata": {
  "kernelspec": {
   "display_name": "Python 3",
   "language": "python",
   "name": "python3"
  },
  "language_info": {
   "codemirror_mode": {
    "name": "ipython",
    "version": 3
   },
   "file_extension": ".py",
   "mimetype": "text/x-python",
   "name": "python",
   "nbconvert_exporter": "python",
   "pygments_lexer": "ipython3",
   "version": "3.5.0"
  }
 },
 "nbformat": 4,
 "nbformat_minor": 0
}
